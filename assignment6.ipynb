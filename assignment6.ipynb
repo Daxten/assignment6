{
 "cells": [
  {
   "cell_type": "markdown",
   "metadata": {},
   "source": [
    "# Robberies most prominent in the Streets of Seattle\n",
    "![alt text](http://i.imgur.com/oJDnL88.png \"Robberies in Seattle\")\n",
    "\n",
    "As seen in this bar-chart, robberies are happening mostly in the streets of seattle.\n",
    "Aggregated stats show that street robbery is a serious problem:\n",
    "* Street Robbery: 553\n",
    "* Residence Robbery: 22\n",
    "* Business Robbery: 152\n",
    "* Bank Robbery: 7\n",
    "\n",
    "with 37.5% of the robberies armed, which is reflected in the street robberies. Bank Robberies were top there with about 60% armed."
   ]
  }
 ],
 "metadata": {
  "kernelspec": {
   "display_name": "Python 2",
   "language": "python",
   "name": "python2"
  },
  "language_info": {
   "codemirror_mode": {
    "name": "ipython",
    "version": 2
   },
   "file_extension": ".py",
   "mimetype": "text/x-python",
   "name": "python",
   "nbconvert_exporter": "python",
   "pygments_lexer": "ipython2",
   "version": "2.7.10"
  }
 },
 "nbformat": 4,
 "nbformat_minor": 0
}
